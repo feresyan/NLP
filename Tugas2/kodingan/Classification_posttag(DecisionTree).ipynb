{
 "cells": [
  {
   "cell_type": "code",
   "execution_count": null,
   "metadata": {},
   "outputs": [],
   "source": [
    "from sklearn import tree\n",
    "from sklearn.feature_extraction import DictVectorizer\n",
    "from sklearn.pipeline import Pipeline"
   ]
  },
  {
   "cell_type": "code",
   "execution_count": null,
   "metadata": {},
   "outputs": [],
   "source": [
    "# Baca data training\n",
    "def read_dataset(fname):\n",
    "    training_sentences = []\n",
    "    training_tags = []\n",
    "    with open(fname) as f:\n",
    "        content = f.readlines()\n",
    "    # you may also want to remove whitespace characters like `\\n` at the end of each line\n",
    "    content = [x.strip() for x in content]\n",
    "    idx_line = 0\n",
    "    while idx_line < len(content):\n",
    "        sent = []\n",
    "        tag = []\n",
    "        while not content[idx_line].startswith('</kalimat'):\n",
    "            if  not content[idx_line].startswith('<kalimat'):\n",
    "                content_part = content[idx_line].split('\\t')\n",
    "                sent.append(content_part[0])\n",
    "                tag.append(content_part[1])\n",
    "            idx_line = idx_line + 1\n",
    "        training_sentences.append(sent)\n",
    "        training_tags.append(tag)\n",
    "        idx_line = idx_line++2        \n",
    "    return training_sentences, training_tags\n",
    "\n",
    "training_sentences,training_tags = read_dataset('data_training.txt')"
   ]
  },
  {
   "cell_type": "code",
   "execution_count": null,
   "metadata": {},
   "outputs": [],
   "source": [
    "# Baca data test\n",
    "def read_dataTest(fname):\n",
    "    test_sentences = []\n",
    "    test_tags = []\n",
    "    with open(fname) as f:\n",
    "        content = f.readlines()\n",
    "    # you may also want to remove whitespace characters like `\\n` at the end of each line\n",
    "    content = [x.strip() for x in content]\n",
    "    idx_line = 0\n",
    "    while idx_line < len(content):\n",
    "        sent = []\n",
    "        tag = []\n",
    "        while not content[idx_line].startswith('</kalimat'):\n",
    "            if  not content[idx_line].startswith('<kalimat'):\n",
    "                content_part = content[idx_line].split('\\t')\n",
    "                sent.append(content_part[0])\n",
    "                tag.append(content_part[1])\n",
    "            idx_line = idx_line + 1\n",
    "        test_sentences.append(sent)\n",
    "        test_tags.append(tag)\n",
    "        idx_line = idx_line++2        \n",
    "    return test_sentences, test_tags\n",
    "\n",
    "test_sentences,test_tags = read_dataTest('data_tes.txt')\n",
    "#print(len(test_sentences))"
   ]
  },
  {
   "cell_type": "code",
   "execution_count": null,
   "metadata": {},
   "outputs": [],
   "source": [
    "# pembuatan features \n",
    "def features(sentence, index):\n",
    "    \"\"\" sentence: [w1, w2, ...], index: the index of the word \"\"\"\n",
    "    return {\n",
    "        'word': sentence[index],\n",
    "        'prefix-1': sentence[index][0],\n",
    "        'prefix-2': sentence[index][:2],\n",
    "        'prefix-3': sentence[index][:3],\n",
    "        'suffix-1': sentence[index][-1],\n",
    "        'suffix-2': sentence[index][-2:],\n",
    "        'suffix-3': sentence[index][-3:],\n",
    "        'prev_word': '' if index == 0 else sentence[index - 1],\n",
    "        'next_word': '' if index == len(sentence) - 1 else sentence[index + 1],\n",
    "    }"
   ]
  },
  {
   "cell_type": "code",
   "execution_count": null,
   "metadata": {},
   "outputs": [],
   "source": [
    "# buat kalimat dan tag menjadi data set untuk dilakukan klasifikasi decision tree\n",
    "def transform_to_dataset(sentences, tags):\n",
    "    X, y = [], []\n",
    "    for sentence_idx in range(len(sentences)):\n",
    "        for index in range(len(sentences[sentence_idx])):\n",
    "            X.append(features(sentences[sentence_idx], index))\n",
    "            y.append(tags[sentence_idx][index])\n",
    " \n",
    "    return X, y\n",
    "\n",
    "X, y = transform_to_dataset(training_sentences, training_tags)"
   ]
  },
  {
   "cell_type": "code",
   "execution_count": null,
   "metadata": {},
   "outputs": [],
   "source": [
    "# memanggil method decision tree dan menghitung akurasi ketepatan posttag dengan klasifikasi\n",
    "clf = Pipeline([\n",
    "    ('vectorizer', DictVectorizer(sparse=False)),\n",
    "    ('classifier', tree.DecisionTreeClassifier(criterion='entropy'))\n",
    "])\n",
    "clf.fit(X, y)\n",
    "print('Training completed') \n",
    "\n",
    "X_test, y_test = transform_to_dataset(test_sentences, test_tags)\n",
    "print(\"Accuracy:\")\n",
    "print(clf.score(X_test, y_test))"
   ]
  },
  {
   "cell_type": "code",
   "execution_count": null,
   "metadata": {},
   "outputs": [],
   "source": []
  }
 ],
 "metadata": {
  "kernelspec": {
   "display_name": "Python 3",
   "language": "python",
   "name": "python3"
  },
  "language_info": {
   "codemirror_mode": {
    "name": "ipython",
    "version": 3
   },
   "file_extension": ".py",
   "mimetype": "text/x-python",
   "name": "python",
   "nbconvert_exporter": "python",
   "pygments_lexer": "ipython3",
   "version": "3.6.5"
  }
 },
 "nbformat": 4,
 "nbformat_minor": 2
}
