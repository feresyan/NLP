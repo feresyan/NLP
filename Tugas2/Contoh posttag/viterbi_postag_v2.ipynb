{
 "cells": [
  {
   "cell_type": "code",
   "execution_count": 1,
   "metadata": {},
   "outputs": [],
   "source": [
    "import numpy\n",
    "import io\n",
    "from itertools import permutations"
   ]
  },
  {
   "cell_type": "markdown",
   "metadata": {},
   "source": [
    "read training file and create "
   ]
  },
  {
   "cell_type": "code",
   "execution_count": 2,
   "metadata": {},
   "outputs": [],
   "source": [
    "def read_file_init_table(fname):\n",
    "    tag_count = {}\n",
    "    tag_count['<start>'] = 0\n",
    "    word_tag = {}\n",
    "    tag_trans = {}\n",
    "    with open(fname) as f:\n",
    "        content = f.readlines()\n",
    "    # you may also want to remove whitespace characters like `\\n` at the end of each line\n",
    "    content = [x.strip() for x in content]\n",
    "    idx_line = 0\n",
    "    is_first_word = 0\n",
    "    \n",
    "    while idx_line < len(content):\n",
    "        prev_tag = '<start>'\n",
    "        while not content[idx_line].startswith('</kalimat'):\n",
    "            if  not content[idx_line].startswith('<kalimat'):\n",
    "                content_part = content[idx_line].split('\\t')\n",
    "                if content_part[1] in tag_count:\n",
    "                    tag_count[content_part[1]] += 1\n",
    "                else:\n",
    "                    tag_count[content_part[1]] = 1\n",
    "                    \n",
    "                current_word_tag = content_part[0]+','+content_part[1]\n",
    "                if current_word_tag in word_tag:\n",
    "                    word_tag[current_word_tag] += 1\n",
    "                else:    \n",
    "                    word_tag[current_word_tag] = 1\n",
    "                    \n",
    "                if is_first_word == 1:\n",
    "                    current_tag_trans = '<start>,'+content_part[1]\n",
    "                    is_first_word = 0\n",
    "                else:\n",
    "                    current_tag_trans = prev_tag+','+content_part[1]\n",
    "                    \n",
    "                if current_tag_trans in tag_trans:\n",
    "                    tag_trans[current_tag_trans] += 1\n",
    "                else:\n",
    "                    tag_trans[current_tag_trans] = 1                    \n",
    "                prev_tag = content_part[1]   \n",
    "                \n",
    "            else:\n",
    "                tag_count['<start>'] += 1\n",
    "                is_first_word = 1\n",
    "            idx_line = idx_line + 1\n",
    "\n",
    "        idx_line = idx_line+1       \n",
    "    return tag_count, word_tag, tag_trans"
   ]
  },
  {
   "cell_type": "code",
   "execution_count": 3,
   "metadata": {},
   "outputs": [
    {
     "name": "stdout",
     "output_type": "stream",
     "text": [
      "{'<start>': 10, 'NN': 43, 'SC': 9, 'VB': 30, 'NNP': 23, 'JJ': 14, 'RB': 3, 'IN': 10, 'Z': 15, 'CD': 7, 'CC': 6, 'PR': 3, 'PRP': 1, 'MD': 3, 'FW': 1}\n",
      "{'Kera,NN': 1, 'untuk,SC': 4, 'amankan,VB': 1, 'pesta olahraga,NN': 1, 'Pemerintah,NNP': 1, 'kota,NNP': 2, 'Delhi,NNP': 3, 'mengerahkan,VB': 1, 'monyet,NN': 9, 'mengusir,VB': 3, 'monyet-monyet,NN': 2, 'lain,JJ': 2, 'yang,SC': 3, 'berbadan,VB': 2, 'lebih,RB': 1, 'kecil,JJ': 4, 'dari,IN': 2, 'arena,NN': 2, 'Pesta Olahraga,NNP': 1, 'Persemakmuran,NNP': 1, '.,Z': 8, 'Beberapa,CD': 1, 'laporan,NN': 1, 'menyebutkan,VB': 1, 'setidaknya,RB': 1, '10,CD': 2, 'ditempatkan,VB': 1, 'di,IN': 6, 'luar,NN': 1, 'lomba,NN': 1, 'dan,CC': 6, 'pertandingan,NN': 1, 'ibukota,NNP': 2, 'India,NNP': 2, 'Pemkot,NNP': 1, 'memiliki,VB': 2, '28,CD': 1, 'berencana,VB': 1, 'mendatangkan,VB': 1, 'sejenis,NN': 1, 'negara bagian,NNP': 1, 'Rajasthan,NNP': 1, 'Jumlah,NN': 1, 'mencapai,VB': 1, 'ribuan,CD': 1, ',,Z': 5, 'sebagian besar,NN': 1, 'berada,VB': 1, 'kantor-kantor,NN': 1, 'pemerintah,NN': 1, 'hewan,NN': 1, 'ini,PR': 2, 'dianggap,VB': 1, 'mengganggu,VB': 1, 'ketertiban,NN': 1, 'umum,JJ': 1, 'Jenis,NN': 1, 'dikerahkan,VB': 3, 'pemkot,NN': 1, 'besar,JJ': 3, 'berekor,VB': 1, 'panjang,JJ': 2, 'wajah,NN': 1, 'berwarna,VB': 1, 'hitam,JJ': 1, 'Monyet,NN': 3, 'diikat,VB': 1, 'dengan,IN': 1, 'tali,NN': 2, 'pelatih,NN': 1, 'mengawasi,VB': 1, 'mereka,PRP': 1, 'akan,MD': 3, 'melepas,VB': 1, 'begitu,SC': 1, 'mendekat,VB': 1, 'Kantor,NNP': 1, 'berita,NNP': 1, 'AFP,NNP': 2, 'melaporkan,VB': 1, 'stadion,NN': 3, 'tinju,NN': 1, 'hockey,FW': 1, 'mendapatkan,VB': 1, 'perhatian,NN': 1, 'khusus,JJ': 1, 'karena,SC': 1, 'sering,RB': 1, 'diserbu,VB': 1, 'dua,CD': 2, 'serbuan,NN': 2, '\",Z': 2, 'tersebut,PR': 1, 'kata,VB': 1, 'Devender,NNP': 1, 'Prasad,NNP': 1, 'pejabat,NN': 1, 'pemerintah,NNP': 1, 'kepada,IN': 1, 'kantor berita,NNP': 1}\n",
      "{'<start>,NN': 5, 'NN,SC': 6, 'SC,VB': 7, 'VB,NN': 12, '<start>,NNP': 3, 'NNP,NNP': 13, 'NNP,VB': 4, 'NN,JJ': 9, 'JJ,SC': 2, 'VB,RB': 2, 'RB,JJ': 1, 'JJ,IN': 1, 'IN,NN': 4, 'NN,NNP': 2, 'NNP,Z': 5, '<start>,CD': 1, 'CD,NN': 6, 'NN,VB': 5, 'RB,CD': 1, 'VB,IN': 5, 'NN,NN': 9, 'NN,CC': 4, 'CC,NN': 3, 'NN,IN': 3, 'IN,NNP': 4, 'VB,CD': 3, 'CC,VB': 2, 'VB,VB': 2, 'CD,Z': 1, 'Z,NN': 3, 'NN,PR': 3, 'PR,VB': 2, 'JJ,Z': 5, 'VB,JJ': 3, 'Z,VB': 2, 'Z,CC': 1, 'JJ,CC': 1, 'VB,PRP': 1, 'PRP,MD': 1, 'MD,VB': 3, 'SC,NN': 1, 'JJ,JJ': 1, 'JJ,VB': 1, 'VB,Z': 1, 'CC,FW': 1, 'FW,VB': 1, 'SC,RB': 1, 'RB,VB': 1, 'NN,Z': 1, 'JJ,MD': 2, 'IN,CD': 2, '<start>,Z': 1, 'PR,SC': 1, 'Z,Z': 1, 'VB,NNP': 1, 'NNP,IN': 1}\n"
     ]
    }
   ],
   "source": [
    "tag_count, word_tag, tag_trans = read_file_init_table('sample_postagged.txt')\n",
    "print(tag_count)\n",
    "print(word_tag)\n",
    "print(tag_trans)"
   ]
  },
  {
   "cell_type": "code",
   "execution_count": 4,
   "metadata": {},
   "outputs": [],
   "source": [
    "def create_trans_prob_table(tag_trans, tag_count):\n",
    "    print(tag_trans)\n",
    "    trans_prob = {}\n",
    "    for tag1 in tag_count.keys():\n",
    "        for tag2 in tag_count.keys():\n",
    "            #print('tag1 = ')\n",
    "            #print(tag1)\n",
    "            trans_idx = tag1+','+tag2\n",
    "            #print('trans_idx = ')\n",
    "            #print(trans_idx)\n",
    "            if trans_idx in tag_trans:\n",
    "                #print(trans_idx)\n",
    "                trans_prob[trans_idx] = tag_trans[trans_idx]/tag_count[tag1]\n",
    "    return trans_prob"
   ]
  },
  {
   "cell_type": "code",
   "execution_count": 5,
   "metadata": {},
   "outputs": [
    {
     "name": "stdout",
     "output_type": "stream",
     "text": [
      "{'<start>,NN': 5, 'NN,SC': 6, 'SC,VB': 7, 'VB,NN': 12, '<start>,NNP': 3, 'NNP,NNP': 13, 'NNP,VB': 4, 'NN,JJ': 9, 'JJ,SC': 2, 'VB,RB': 2, 'RB,JJ': 1, 'JJ,IN': 1, 'IN,NN': 4, 'NN,NNP': 2, 'NNP,Z': 5, '<start>,CD': 1, 'CD,NN': 6, 'NN,VB': 5, 'RB,CD': 1, 'VB,IN': 5, 'NN,NN': 9, 'NN,CC': 4, 'CC,NN': 3, 'NN,IN': 3, 'IN,NNP': 4, 'VB,CD': 3, 'CC,VB': 2, 'VB,VB': 2, 'CD,Z': 1, 'Z,NN': 3, 'NN,PR': 3, 'PR,VB': 2, 'JJ,Z': 5, 'VB,JJ': 3, 'Z,VB': 2, 'Z,CC': 1, 'JJ,CC': 1, 'VB,PRP': 1, 'PRP,MD': 1, 'MD,VB': 3, 'SC,NN': 1, 'JJ,JJ': 1, 'JJ,VB': 1, 'VB,Z': 1, 'CC,FW': 1, 'FW,VB': 1, 'SC,RB': 1, 'RB,VB': 1, 'NN,Z': 1, 'JJ,MD': 2, 'IN,CD': 2, '<start>,Z': 1, 'PR,SC': 1, 'Z,Z': 1, 'VB,NNP': 1, 'NNP,IN': 1}\n",
      "{'<start>,NN': 0.5, '<start>,NNP': 0.3, '<start>,Z': 0.1, '<start>,CD': 0.1, 'NN,NN': 0.20930232558139536, 'NN,SC': 0.13953488372093023, 'NN,VB': 0.11627906976744186, 'NN,NNP': 0.046511627906976744, 'NN,JJ': 0.20930232558139536, 'NN,IN': 0.06976744186046512, 'NN,Z': 0.023255813953488372, 'NN,CC': 0.09302325581395349, 'NN,PR': 0.06976744186046512, 'SC,NN': 0.1111111111111111, 'SC,VB': 0.7777777777777778, 'SC,RB': 0.1111111111111111, 'VB,NN': 0.4, 'VB,VB': 0.06666666666666667, 'VB,NNP': 0.03333333333333333, 'VB,JJ': 0.1, 'VB,RB': 0.06666666666666667, 'VB,IN': 0.16666666666666666, 'VB,Z': 0.03333333333333333, 'VB,CD': 0.1, 'VB,PRP': 0.03333333333333333, 'NNP,VB': 0.17391304347826086, 'NNP,NNP': 0.5652173913043478, 'NNP,IN': 0.043478260869565216, 'NNP,Z': 0.21739130434782608, 'JJ,SC': 0.14285714285714285, 'JJ,VB': 0.07142857142857142, 'JJ,JJ': 0.07142857142857142, 'JJ,IN': 0.07142857142857142, 'JJ,Z': 0.35714285714285715, 'JJ,CC': 0.07142857142857142, 'JJ,MD': 0.14285714285714285, 'RB,VB': 0.3333333333333333, 'RB,JJ': 0.3333333333333333, 'RB,CD': 0.3333333333333333, 'IN,NN': 0.4, 'IN,NNP': 0.4, 'IN,CD': 0.2, 'Z,NN': 0.2, 'Z,VB': 0.13333333333333333, 'Z,Z': 0.06666666666666667, 'Z,CC': 0.06666666666666667, 'CD,NN': 0.8571428571428571, 'CD,Z': 0.14285714285714285, 'CC,NN': 0.5, 'CC,VB': 0.3333333333333333, 'CC,FW': 0.16666666666666666, 'PR,SC': 0.3333333333333333, 'PR,VB': 0.6666666666666666, 'PRP,MD': 1.0, 'MD,VB': 1.0, 'FW,VB': 1.0}\n"
     ]
    }
   ],
   "source": [
    "trans_prob = create_trans_prob_table(tag_trans, tag_count)\n",
    "print(trans_prob)"
   ]
  },
  {
   "cell_type": "code",
   "execution_count": 6,
   "metadata": {},
   "outputs": [],
   "source": [
    "def create_emission_prob_table(word_tag, tag_count):\n",
    "    emission_prob = {}\n",
    "    for word_tag_entry in word_tag.keys():\n",
    "        word_tag_split = word_tag_entry.split(',')\n",
    "        current_word = word_tag_split[0]\n",
    "        current_tag = word_tag_split[1]\n",
    "        emission_key = current_word+','+current_tag\n",
    "        emission_prob[emission_key] = word_tag[word_tag_entry]/tag_count[current_tag]    \n",
    "    return emission_prob"
   ]
  },
  {
   "cell_type": "code",
   "execution_count": 7,
   "metadata": {},
   "outputs": [
    {
     "ename": "KeyError",
     "evalue": "''",
     "output_type": "error",
     "traceback": [
      "\u001b[1;31m---------------------------------------------------------------------------\u001b[0m",
      "\u001b[1;31mKeyError\u001b[0m                                  Traceback (most recent call last)",
      "\u001b[1;32m<ipython-input-7-a50763e99f04>\u001b[0m in \u001b[0;36m<module>\u001b[1;34m()\u001b[0m\n\u001b[1;32m----> 1\u001b[1;33m \u001b[0memission_prob\u001b[0m \u001b[1;33m=\u001b[0m \u001b[0mcreate_emission_prob_table\u001b[0m\u001b[1;33m(\u001b[0m\u001b[0mword_tag\u001b[0m\u001b[1;33m,\u001b[0m \u001b[0mtag_count\u001b[0m\u001b[1;33m)\u001b[0m\u001b[1;33m\u001b[0m\u001b[0m\n\u001b[0m\u001b[0;32m      2\u001b[0m \u001b[0mprint\u001b[0m\u001b[1;33m(\u001b[0m\u001b[0memission_prob\u001b[0m\u001b[1;33m)\u001b[0m\u001b[1;33m\u001b[0m\u001b[0m\n",
      "\u001b[1;32m<ipython-input-6-67653b57b25f>\u001b[0m in \u001b[0;36mcreate_emission_prob_table\u001b[1;34m(word_tag, tag_count)\u001b[0m\n\u001b[0;32m      6\u001b[0m         \u001b[0mcurrent_tag\u001b[0m \u001b[1;33m=\u001b[0m \u001b[0mword_tag_split\u001b[0m\u001b[1;33m[\u001b[0m\u001b[1;36m1\u001b[0m\u001b[1;33m]\u001b[0m\u001b[1;33m\u001b[0m\u001b[0m\n\u001b[0;32m      7\u001b[0m         \u001b[0memission_key\u001b[0m \u001b[1;33m=\u001b[0m \u001b[0mcurrent_word\u001b[0m\u001b[1;33m+\u001b[0m\u001b[1;34m','\u001b[0m\u001b[1;33m+\u001b[0m\u001b[0mcurrent_tag\u001b[0m\u001b[1;33m\u001b[0m\u001b[0m\n\u001b[1;32m----> 8\u001b[1;33m         \u001b[0memission_prob\u001b[0m\u001b[1;33m[\u001b[0m\u001b[0memission_key\u001b[0m\u001b[1;33m]\u001b[0m \u001b[1;33m=\u001b[0m \u001b[0mword_tag\u001b[0m\u001b[1;33m[\u001b[0m\u001b[0mword_tag_entry\u001b[0m\u001b[1;33m]\u001b[0m\u001b[1;33m/\u001b[0m\u001b[0mtag_count\u001b[0m\u001b[1;33m[\u001b[0m\u001b[0mcurrent_tag\u001b[0m\u001b[1;33m]\u001b[0m\u001b[1;33m\u001b[0m\u001b[0m\n\u001b[0m\u001b[0;32m      9\u001b[0m     \u001b[1;32mreturn\u001b[0m \u001b[0memission_prob\u001b[0m\u001b[1;33m\u001b[0m\u001b[0m\n",
      "\u001b[1;31mKeyError\u001b[0m: ''"
     ]
    }
   ],
   "source": [
    "emission_prob = create_emission_prob_table(word_tag, tag_count)\n",
    "print(emission_prob)"
   ]
  },
  {
   "cell_type": "code",
   "execution_count": null,
   "metadata": {},
   "outputs": [],
   "source": [
    "def viterbi(trans_prob, emission_prob, tag_count, sentence):\n",
    "    #initialization\n",
    "    viterbi_mat = {}\n",
    "    tag_sequence = []\n",
    "    \n",
    "    sentence_words = sentence.split()\n",
    "    for i in range(0,len(sentence_words)):\n",
    "        \n",
    "    \n",
    "    return viterbi_mat, tag_sequence"
   ]
  },
  {
   "cell_type": "code",
   "execution_count": null,
   "metadata": {},
   "outputs": [],
   "source": []
  }
 ],
 "metadata": {
  "kernelspec": {
   "display_name": "Python 3",
   "language": "python",
   "name": "python3"
  },
  "language_info": {
   "codemirror_mode": {
    "name": "ipython",
    "version": 3
   },
   "file_extension": ".py",
   "mimetype": "text/x-python",
   "name": "python",
   "nbconvert_exporter": "python",
   "pygments_lexer": "ipython3",
   "version": "3.6.5"
  }
 },
 "nbformat": 4,
 "nbformat_minor": 2
}
